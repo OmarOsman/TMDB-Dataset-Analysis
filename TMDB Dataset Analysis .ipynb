{
 "cells": [
  {
   "cell_type": "code",
   "execution_count": 1,
   "metadata": {},
   "outputs": [],
   "source": [
    "import pandas as pd \n",
    "import numpy as np \n",
    "import seaborn as sns\n",
    "import matplotlib.pyplot as plt\n",
    "from sklearn.preprocessing import LabelEncoder,StandardScaler"
   ]
  },
  {
   "cell_type": "code",
   "execution_count": 2,
   "metadata": {},
   "outputs": [
    {
     "data": {
      "text/plain": [
       "'\\n!python -m pip install --upgrade seaborn\\n!python -m pip install --upgrade seaborn\\n!python -m pip install --upgrade seaborn\\n!python -m pip install --upgrade seaborn\\n'"
      ]
     },
     "execution_count": 2,
     "metadata": {},
     "output_type": "execute_result"
    }
   ],
   "source": [
    "'''\n",
    "!python -m pip install --upgrade seaborn\n",
    "!python -m pip install --upgrade seaborn\n",
    "!python -m pip install --upgrade seaborn\n",
    "!python -m pip install --upgrade seaborn\n",
    "'''"
   ]
  },
  {
   "cell_type": "markdown",
   "metadata": {},
   "source": [
    "### Basic EDA"
   ]
  },
  {
   "cell_type": "code",
   "execution_count": 3,
   "metadata": {},
   "outputs": [],
   "source": [
    "movie_meta = pd.read_csv('tmdb_movies_metadata.csv')\n",
    "movie_crew = pd.read_csv('tmdb_cast_crew.csv')"
   ]
  },
  {
   "cell_type": "code",
   "execution_count": 4,
   "metadata": {},
   "outputs": [
    {
     "data": {
      "text/html": [
       "<div>\n",
       "<style scoped>\n",
       "    .dataframe tbody tr th:only-of-type {\n",
       "        vertical-align: middle;\n",
       "    }\n",
       "\n",
       "    .dataframe tbody tr th {\n",
       "        vertical-align: top;\n",
       "    }\n",
       "\n",
       "    .dataframe thead th {\n",
       "        text-align: right;\n",
       "    }\n",
       "</style>\n",
       "<table border=\"1\" class=\"dataframe\">\n",
       "  <thead>\n",
       "    <tr style=\"text-align: right;\">\n",
       "      <th></th>\n",
       "      <th>movie_id</th>\n",
       "      <th>title</th>\n",
       "      <th>original_language</th>\n",
       "      <th>release_date</th>\n",
       "      <th>budget</th>\n",
       "      <th>revenue</th>\n",
       "      <th>runtime</th>\n",
       "      <th>vote_average</th>\n",
       "      <th>vote_count</th>\n",
       "      <th>popularity</th>\n",
       "      <th>genres</th>\n",
       "      <th>keywords</th>\n",
       "      <th>production_companies</th>\n",
       "      <th>production_countries</th>\n",
       "    </tr>\n",
       "  </thead>\n",
       "  <tbody>\n",
       "    <tr>\n",
       "      <th>0</th>\n",
       "      <td>19995</td>\n",
       "      <td>Avatar</td>\n",
       "      <td>en</td>\n",
       "      <td>2009-12-10</td>\n",
       "      <td>237000000</td>\n",
       "      <td>2.787965e+09</td>\n",
       "      <td>162.0</td>\n",
       "      <td>7.2</td>\n",
       "      <td>11800</td>\n",
       "      <td>150.437577</td>\n",
       "      <td>Action|Adventure|Fantasy|Science Fiction</td>\n",
       "      <td>culture clash|future|space war|space colony|so...</td>\n",
       "      <td>Ingenious Film Partners|Twentieth Century Fox ...</td>\n",
       "      <td>United States of America|United Kingdom</td>\n",
       "    </tr>\n",
       "    <tr>\n",
       "      <th>1</th>\n",
       "      <td>285</td>\n",
       "      <td>Pirates of the Caribbean: At World's End</td>\n",
       "      <td>en</td>\n",
       "      <td>2007-05-19</td>\n",
       "      <td>300000000</td>\n",
       "      <td>9.610000e+08</td>\n",
       "      <td>169.0</td>\n",
       "      <td>6.9</td>\n",
       "      <td>4500</td>\n",
       "      <td>139.082615</td>\n",
       "      <td>Adventure|Fantasy|Action</td>\n",
       "      <td>ocean|drug abuse|exotic island|east india trad...</td>\n",
       "      <td>Walt Disney Pictures|Jerry Bruckheimer Films|S...</td>\n",
       "      <td>United States of America</td>\n",
       "    </tr>\n",
       "    <tr>\n",
       "      <th>2</th>\n",
       "      <td>206647</td>\n",
       "      <td>Spectre</td>\n",
       "      <td>en</td>\n",
       "      <td>2015-10-26</td>\n",
       "      <td>245000000</td>\n",
       "      <td>8.806746e+08</td>\n",
       "      <td>148.0</td>\n",
       "      <td>6.3</td>\n",
       "      <td>4466</td>\n",
       "      <td>107.376788</td>\n",
       "      <td>Action|Adventure|Crime</td>\n",
       "      <td>spy|based on novel|secret agent|sequel|mi6|bri...</td>\n",
       "      <td>Columbia Pictures|Danjaq|B24</td>\n",
       "      <td>United Kingdom|United States of America</td>\n",
       "    </tr>\n",
       "    <tr>\n",
       "      <th>3</th>\n",
       "      <td>49026</td>\n",
       "      <td>The Dark Knight Rises</td>\n",
       "      <td>en</td>\n",
       "      <td>2012-07-16</td>\n",
       "      <td>250000000</td>\n",
       "      <td>1.084939e+09</td>\n",
       "      <td>165.0</td>\n",
       "      <td>7.6</td>\n",
       "      <td>9106</td>\n",
       "      <td>112.312950</td>\n",
       "      <td>Action|Crime|Drama|Thriller</td>\n",
       "      <td>dc comics|crime fighter|terrorist|secret ident...</td>\n",
       "      <td>Legendary Pictures|Warner Bros.|DC Entertainme...</td>\n",
       "      <td>United States of America</td>\n",
       "    </tr>\n",
       "    <tr>\n",
       "      <th>4</th>\n",
       "      <td>49529</td>\n",
       "      <td>John Carter</td>\n",
       "      <td>en</td>\n",
       "      <td>2012-03-07</td>\n",
       "      <td>260000000</td>\n",
       "      <td>2.841391e+08</td>\n",
       "      <td>132.0</td>\n",
       "      <td>6.1</td>\n",
       "      <td>2124</td>\n",
       "      <td>43.926995</td>\n",
       "      <td>Action|Adventure|Science Fiction</td>\n",
       "      <td>based on novel|mars|medallion|space travel|pri...</td>\n",
       "      <td>Walt Disney Pictures</td>\n",
       "      <td>United States of America</td>\n",
       "    </tr>\n",
       "  </tbody>\n",
       "</table>\n",
       "</div>"
      ],
      "text/plain": [
       "   movie_id                                     title original_language  \\\n",
       "0     19995                                    Avatar                en   \n",
       "1       285  Pirates of the Caribbean: At World's End                en   \n",
       "2    206647                                   Spectre                en   \n",
       "3     49026                     The Dark Knight Rises                en   \n",
       "4     49529                               John Carter                en   \n",
       "\n",
       "  release_date     budget       revenue  runtime  vote_average  vote_count  \\\n",
       "0   2009-12-10  237000000  2.787965e+09    162.0           7.2       11800   \n",
       "1   2007-05-19  300000000  9.610000e+08    169.0           6.9        4500   \n",
       "2   2015-10-26  245000000  8.806746e+08    148.0           6.3        4466   \n",
       "3   2012-07-16  250000000  1.084939e+09    165.0           7.6        9106   \n",
       "4   2012-03-07  260000000  2.841391e+08    132.0           6.1        2124   \n",
       "\n",
       "   popularity                                    genres  \\\n",
       "0  150.437577  Action|Adventure|Fantasy|Science Fiction   \n",
       "1  139.082615                  Adventure|Fantasy|Action   \n",
       "2  107.376788                    Action|Adventure|Crime   \n",
       "3  112.312950               Action|Crime|Drama|Thriller   \n",
       "4   43.926995          Action|Adventure|Science Fiction   \n",
       "\n",
       "                                            keywords  \\\n",
       "0  culture clash|future|space war|space colony|so...   \n",
       "1  ocean|drug abuse|exotic island|east india trad...   \n",
       "2  spy|based on novel|secret agent|sequel|mi6|bri...   \n",
       "3  dc comics|crime fighter|terrorist|secret ident...   \n",
       "4  based on novel|mars|medallion|space travel|pri...   \n",
       "\n",
       "                                production_companies  \\\n",
       "0  Ingenious Film Partners|Twentieth Century Fox ...   \n",
       "1  Walt Disney Pictures|Jerry Bruckheimer Films|S...   \n",
       "2                       Columbia Pictures|Danjaq|B24   \n",
       "3  Legendary Pictures|Warner Bros.|DC Entertainme...   \n",
       "4                               Walt Disney Pictures   \n",
       "\n",
       "                      production_countries  \n",
       "0  United States of America|United Kingdom  \n",
       "1                 United States of America  \n",
       "2  United Kingdom|United States of America  \n",
       "3                 United States of America  \n",
       "4                 United States of America  "
      ]
     },
     "execution_count": 4,
     "metadata": {},
     "output_type": "execute_result"
    }
   ],
   "source": [
    "movie_meta.head()"
   ]
  },
  {
   "cell_type": "code",
   "execution_count": 6,
   "metadata": {},
   "outputs": [
    {
     "name": "stdout",
     "output_type": "stream",
     "text": [
      "<class 'pandas.core.frame.DataFrame'>\n",
      "RangeIndex: 4795 entries, 0 to 4794\n",
      "Data columns (total 14 columns):\n",
      "movie_id                4795 non-null int64\n",
      "title                   4795 non-null object\n",
      "original_language       4795 non-null object\n",
      "release_date            4794 non-null object\n",
      "budget                  4795 non-null int64\n",
      "revenue                 4795 non-null float64\n",
      "runtime                 4793 non-null float64\n",
      "vote_average            4795 non-null float64\n",
      "vote_count              4795 non-null int64\n",
      "popularity              4795 non-null float64\n",
      "genres                  4767 non-null object\n",
      "keywords                4386 non-null object\n",
      "production_companies    4450 non-null object\n",
      "production_countries    4624 non-null object\n",
      "dtypes: float64(4), int64(3), object(7)\n",
      "memory usage: 524.5+ KB\n"
     ]
    }
   ],
   "source": [
    "movie_meta.info()"
   ]
  },
  {
   "cell_type": "code",
   "execution_count": 7,
   "metadata": {},
   "outputs": [
    {
     "data": {
      "text/plain": [
       "movie_id                  0\n",
       "title                     0\n",
       "original_language         0\n",
       "release_date              1\n",
       "budget                    0\n",
       "revenue                   0\n",
       "runtime                   2\n",
       "vote_average              0\n",
       "vote_count                0\n",
       "popularity                0\n",
       "genres                   28\n",
       "keywords                409\n",
       "production_companies    345\n",
       "production_countries    171\n",
       "dtype: int64"
      ]
     },
     "execution_count": 7,
     "metadata": {},
     "output_type": "execute_result"
    }
   ],
   "source": [
    "movie_meta.isna().sum()"
   ]
  },
  {
   "cell_type": "code",
   "execution_count": 8,
   "metadata": {},
   "outputs": [],
   "source": [
    "movie_meta['genres'].fillna(\"\" ,inplace = True)"
   ]
  },
  {
   "cell_type": "code",
   "execution_count": 11,
   "metadata": {},
   "outputs": [
    {
     "data": {
      "text/html": [
       "<div>\n",
       "<style scoped>\n",
       "    .dataframe tbody tr th:only-of-type {\n",
       "        vertical-align: middle;\n",
       "    }\n",
       "\n",
       "    .dataframe tbody tr th {\n",
       "        vertical-align: top;\n",
       "    }\n",
       "\n",
       "    .dataframe thead th {\n",
       "        text-align: right;\n",
       "    }\n",
       "</style>\n",
       "<table border=\"1\" class=\"dataframe\">\n",
       "  <thead>\n",
       "    <tr style=\"text-align: right;\">\n",
       "      <th></th>\n",
       "      <th>movie_id</th>\n",
       "      <th>budget</th>\n",
       "      <th>revenue</th>\n",
       "      <th>runtime</th>\n",
       "      <th>vote_average</th>\n",
       "      <th>vote_count</th>\n",
       "      <th>popularity</th>\n",
       "    </tr>\n",
       "  </thead>\n",
       "  <tbody>\n",
       "    <tr>\n",
       "      <th>count</th>\n",
       "      <td>4795.000000</td>\n",
       "      <td>4.795000e+03</td>\n",
       "      <td>4.795000e+03</td>\n",
       "      <td>4793.000000</td>\n",
       "      <td>4795.000000</td>\n",
       "      <td>4795.000000</td>\n",
       "      <td>4795.000000</td>\n",
       "    </tr>\n",
       "    <tr>\n",
       "      <th>mean</th>\n",
       "      <td>57051.887800</td>\n",
       "      <td>2.909267e+07</td>\n",
       "      <td>8.239771e+07</td>\n",
       "      <td>106.915084</td>\n",
       "      <td>6.093306</td>\n",
       "      <td>691.360792</td>\n",
       "      <td>21.527415</td>\n",
       "    </tr>\n",
       "    <tr>\n",
       "      <th>std</th>\n",
       "      <td>88593.489117</td>\n",
       "      <td>4.073962e+07</td>\n",
       "      <td>1.629583e+08</td>\n",
       "      <td>22.570343</td>\n",
       "      <td>1.190313</td>\n",
       "      <td>1235.298140</td>\n",
       "      <td>31.831547</td>\n",
       "    </tr>\n",
       "    <tr>\n",
       "      <th>min</th>\n",
       "      <td>5.000000</td>\n",
       "      <td>0.000000e+00</td>\n",
       "      <td>0.000000e+00</td>\n",
       "      <td>0.000000</td>\n",
       "      <td>0.000000</td>\n",
       "      <td>0.000000</td>\n",
       "      <td>0.000000</td>\n",
       "    </tr>\n",
       "    <tr>\n",
       "      <th>25%</th>\n",
       "      <td>9010.500000</td>\n",
       "      <td>8.000000e+05</td>\n",
       "      <td>0.000000e+00</td>\n",
       "      <td>94.000000</td>\n",
       "      <td>5.600000</td>\n",
       "      <td>54.000000</td>\n",
       "      <td>4.723880</td>\n",
       "    </tr>\n",
       "    <tr>\n",
       "      <th>50%</th>\n",
       "      <td>14585.000000</td>\n",
       "      <td>1.500000e+07</td>\n",
       "      <td>1.925587e+07</td>\n",
       "      <td>104.000000</td>\n",
       "      <td>6.200000</td>\n",
       "      <td>236.000000</td>\n",
       "      <td>12.963328</td>\n",
       "    </tr>\n",
       "    <tr>\n",
       "      <th>75%</th>\n",
       "      <td>58533.000000</td>\n",
       "      <td>4.000000e+07</td>\n",
       "      <td>9.311911e+07</td>\n",
       "      <td>118.000000</td>\n",
       "      <td>6.800000</td>\n",
       "      <td>738.000000</td>\n",
       "      <td>28.352222</td>\n",
       "    </tr>\n",
       "    <tr>\n",
       "      <th>max</th>\n",
       "      <td>459488.000000</td>\n",
       "      <td>3.800000e+08</td>\n",
       "      <td>2.787965e+09</td>\n",
       "      <td>338.000000</td>\n",
       "      <td>10.000000</td>\n",
       "      <td>13752.000000</td>\n",
       "      <td>875.581305</td>\n",
       "    </tr>\n",
       "  </tbody>\n",
       "</table>\n",
       "</div>"
      ],
      "text/plain": [
       "            movie_id        budget       revenue      runtime  vote_average  \\\n",
       "count    4795.000000  4.795000e+03  4.795000e+03  4793.000000   4795.000000   \n",
       "mean    57051.887800  2.909267e+07  8.239771e+07   106.915084      6.093306   \n",
       "std     88593.489117  4.073962e+07  1.629583e+08    22.570343      1.190313   \n",
       "min         5.000000  0.000000e+00  0.000000e+00     0.000000      0.000000   \n",
       "25%      9010.500000  8.000000e+05  0.000000e+00    94.000000      5.600000   \n",
       "50%     14585.000000  1.500000e+07  1.925587e+07   104.000000      6.200000   \n",
       "75%     58533.000000  4.000000e+07  9.311911e+07   118.000000      6.800000   \n",
       "max    459488.000000  3.800000e+08  2.787965e+09   338.000000     10.000000   \n",
       "\n",
       "         vote_count   popularity  \n",
       "count   4795.000000  4795.000000  \n",
       "mean     691.360792    21.527415  \n",
       "std     1235.298140    31.831547  \n",
       "min        0.000000     0.000000  \n",
       "25%       54.000000     4.723880  \n",
       "50%      236.000000    12.963328  \n",
       "75%      738.000000    28.352222  \n",
       "max    13752.000000   875.581305  "
      ]
     },
     "execution_count": 11,
     "metadata": {},
     "output_type": "execute_result"
    }
   ],
   "source": [
    "movie_meta.describe()"
   ]
  },
  {
   "cell_type": "code",
   "execution_count": 12,
   "metadata": {},
   "outputs": [
    {
     "data": {
      "text/html": [
       "<div>\n",
       "<style scoped>\n",
       "    .dataframe tbody tr th:only-of-type {\n",
       "        vertical-align: middle;\n",
       "    }\n",
       "\n",
       "    .dataframe tbody tr th {\n",
       "        vertical-align: top;\n",
       "    }\n",
       "\n",
       "    .dataframe thead th {\n",
       "        text-align: right;\n",
       "    }\n",
       "</style>\n",
       "<table border=\"1\" class=\"dataframe\">\n",
       "  <thead>\n",
       "    <tr style=\"text-align: right;\">\n",
       "      <th></th>\n",
       "      <th>movie_id</th>\n",
       "      <th>director</th>\n",
       "      <th>producer</th>\n",
       "      <th>actor_1</th>\n",
       "      <th>actor_2</th>\n",
       "      <th>actor_3</th>\n",
       "    </tr>\n",
       "  </thead>\n",
       "  <tbody>\n",
       "    <tr>\n",
       "      <th>0</th>\n",
       "      <td>19995</td>\n",
       "      <td>James Cameron</td>\n",
       "      <td>James Cameron</td>\n",
       "      <td>Sam Worthington</td>\n",
       "      <td>Zoe Saldana</td>\n",
       "      <td>Sigourney Weaver</td>\n",
       "    </tr>\n",
       "    <tr>\n",
       "      <th>1</th>\n",
       "      <td>285</td>\n",
       "      <td>Gore Verbinski</td>\n",
       "      <td>Jerry Bruckheimer</td>\n",
       "      <td>Johnny Depp</td>\n",
       "      <td>Orlando Bloom</td>\n",
       "      <td>Keira Knightley</td>\n",
       "    </tr>\n",
       "    <tr>\n",
       "      <th>2</th>\n",
       "      <td>206647</td>\n",
       "      <td>Sam Mendes</td>\n",
       "      <td>Barbara Broccoli</td>\n",
       "      <td>Daniel Craig</td>\n",
       "      <td>Christoph Waltz</td>\n",
       "      <td>Léa Seydoux</td>\n",
       "    </tr>\n",
       "    <tr>\n",
       "      <th>3</th>\n",
       "      <td>49026</td>\n",
       "      <td>Christopher Nolan</td>\n",
       "      <td>Charles Roven</td>\n",
       "      <td>Christian Bale</td>\n",
       "      <td>Michael Caine</td>\n",
       "      <td>Gary Oldman</td>\n",
       "    </tr>\n",
       "    <tr>\n",
       "      <th>4</th>\n",
       "      <td>49529</td>\n",
       "      <td>Andrew Stanton</td>\n",
       "      <td>Colin Wilson</td>\n",
       "      <td>Taylor Kitsch</td>\n",
       "      <td>Lynn Collins</td>\n",
       "      <td>Samantha Morton</td>\n",
       "    </tr>\n",
       "  </tbody>\n",
       "</table>\n",
       "</div>"
      ],
      "text/plain": [
       "   movie_id           director           producer          actor_1  \\\n",
       "0     19995      James Cameron      James Cameron  Sam Worthington   \n",
       "1       285     Gore Verbinski  Jerry Bruckheimer      Johnny Depp   \n",
       "2    206647         Sam Mendes   Barbara Broccoli     Daniel Craig   \n",
       "3     49026  Christopher Nolan      Charles Roven   Christian Bale   \n",
       "4     49529     Andrew Stanton       Colin Wilson    Taylor Kitsch   \n",
       "\n",
       "           actor_2           actor_3  \n",
       "0      Zoe Saldana  Sigourney Weaver  \n",
       "1    Orlando Bloom   Keira Knightley  \n",
       "2  Christoph Waltz       Léa Seydoux  \n",
       "3    Michael Caine       Gary Oldman  \n",
       "4     Lynn Collins   Samantha Morton  "
      ]
     },
     "execution_count": 12,
     "metadata": {},
     "output_type": "execute_result"
    }
   ],
   "source": [
    "movie_crew.head()"
   ]
  },
  {
   "cell_type": "code",
   "execution_count": 13,
   "metadata": {},
   "outputs": [
    {
     "name": "stdout",
     "output_type": "stream",
     "text": [
      "<class 'pandas.core.frame.DataFrame'>\n",
      "RangeIndex: 4803 entries, 0 to 4802\n",
      "Data columns (total 6 columns):\n",
      "movie_id    4803 non-null int64\n",
      "director    4773 non-null object\n",
      "producer    3780 non-null object\n",
      "actor_1     4760 non-null object\n",
      "actor_2     4750 non-null object\n",
      "actor_3     4740 non-null object\n",
      "dtypes: int64(1), object(5)\n",
      "memory usage: 225.2+ KB\n"
     ]
    }
   ],
   "source": [
    "movie_crew.info()"
   ]
  },
  {
   "cell_type": "code",
   "execution_count": 14,
   "metadata": {},
   "outputs": [
    {
     "data": {
      "text/html": [
       "<div>\n",
       "<style scoped>\n",
       "    .dataframe tbody tr th:only-of-type {\n",
       "        vertical-align: middle;\n",
       "    }\n",
       "\n",
       "    .dataframe tbody tr th {\n",
       "        vertical-align: top;\n",
       "    }\n",
       "\n",
       "    .dataframe thead th {\n",
       "        text-align: right;\n",
       "    }\n",
       "</style>\n",
       "<table border=\"1\" class=\"dataframe\">\n",
       "  <thead>\n",
       "    <tr style=\"text-align: right;\">\n",
       "      <th></th>\n",
       "      <th>movie_id</th>\n",
       "    </tr>\n",
       "  </thead>\n",
       "  <tbody>\n",
       "    <tr>\n",
       "      <th>count</th>\n",
       "      <td>4803.000000</td>\n",
       "    </tr>\n",
       "    <tr>\n",
       "      <th>mean</th>\n",
       "      <td>57165.484281</td>\n",
       "    </tr>\n",
       "    <tr>\n",
       "      <th>std</th>\n",
       "      <td>88694.614033</td>\n",
       "    </tr>\n",
       "    <tr>\n",
       "      <th>min</th>\n",
       "      <td>5.000000</td>\n",
       "    </tr>\n",
       "    <tr>\n",
       "      <th>25%</th>\n",
       "      <td>9014.500000</td>\n",
       "    </tr>\n",
       "    <tr>\n",
       "      <th>50%</th>\n",
       "      <td>14629.000000</td>\n",
       "    </tr>\n",
       "    <tr>\n",
       "      <th>75%</th>\n",
       "      <td>58610.500000</td>\n",
       "    </tr>\n",
       "    <tr>\n",
       "      <th>max</th>\n",
       "      <td>459488.000000</td>\n",
       "    </tr>\n",
       "  </tbody>\n",
       "</table>\n",
       "</div>"
      ],
      "text/plain": [
       "            movie_id\n",
       "count    4803.000000\n",
       "mean    57165.484281\n",
       "std     88694.614033\n",
       "min         5.000000\n",
       "25%      9014.500000\n",
       "50%     14629.000000\n",
       "75%     58610.500000\n",
       "max    459488.000000"
      ]
     },
     "execution_count": 14,
     "metadata": {},
     "output_type": "execute_result"
    }
   ],
   "source": [
    "movie_crew.describe()"
   ]
  },
  {
   "cell_type": "code",
   "execution_count": 21,
   "metadata": {},
   "outputs": [],
   "source": [
    "both = pd.merge(movie_meta,movie_crew)"
   ]
  },
  {
   "cell_type": "code",
   "execution_count": 22,
   "metadata": {},
   "outputs": [
    {
     "data": {
      "text/plain": [
       "Index(['movie_id', 'title', 'original_language', 'release_date', 'budget',\n",
       "       'revenue', 'runtime', 'vote_average', 'vote_count', 'popularity',\n",
       "       'genres', 'keywords', 'production_companies', 'production_countries',\n",
       "       'director', 'producer', 'actor_1', 'actor_2', 'actor_3'],\n",
       "      dtype='object')"
      ]
     },
     "execution_count": 22,
     "metadata": {},
     "output_type": "execute_result"
    }
   ],
   "source": [
    "both.columns"
   ]
  },
  {
   "cell_type": "code",
   "execution_count": 23,
   "metadata": {},
   "outputs": [
    {
     "data": {
      "text/plain": [
       "movie_id                   0\n",
       "title                      0\n",
       "original_language          0\n",
       "release_date               1\n",
       "budget                     0\n",
       "revenue                    0\n",
       "runtime                    2\n",
       "vote_average               0\n",
       "vote_count                 0\n",
       "popularity                 0\n",
       "genres                     0\n",
       "keywords                 409\n",
       "production_companies     345\n",
       "production_countries     171\n",
       "director                  28\n",
       "producer                1016\n",
       "actor_1                   41\n",
       "actor_2                   51\n",
       "actor_3                   61\n",
       "dtype: int64"
      ]
     },
     "execution_count": 23,
     "metadata": {},
     "output_type": "execute_result"
    }
   ],
   "source": [
    "both.isna().sum()"
   ]
  },
  {
   "cell_type": "markdown",
   "metadata": {},
   "source": [
    "### 1) What are the genres that have the highest average rating?"
   ]
  },
  {
   "cell_type": "markdown",
   "metadata": {},
   "source": [
    "### a) Assuming the Seperation of Genres "
   ]
  },
  {
   "cell_type": "code",
   "execution_count": 15,
   "metadata": {},
   "outputs": [],
   "source": [
    "from itertools import chain\n",
    "\n",
    "cols = movie_meta.columns.difference(['genres'])\n",
    "genres = movie_meta['genres'].str.split('|')"
   ]
  },
  {
   "cell_type": "code",
   "execution_count": 17,
   "metadata": {},
   "outputs": [],
   "source": [
    "df =  (movie_meta.loc[movie_meta.index.repeat(genres.str.len()), cols]\n",
    "         .assign(genres=list(chain.from_iterable(genres.tolist()))))"
   ]
  },
  {
   "cell_type": "code",
   "execution_count": 18,
   "metadata": {},
   "outputs": [
    {
     "data": {
      "text/plain": [
       "0             Action\n",
       "0          Adventure\n",
       "0            Fantasy\n",
       "0    Science Fiction\n",
       "1          Adventure\n",
       "1            Fantasy\n",
       "1             Action\n",
       "2             Action\n",
       "2          Adventure\n",
       "2              Crime\n",
       "Name: genres, dtype: object"
      ]
     },
     "execution_count": 18,
     "metadata": {},
     "output_type": "execute_result"
    }
   ],
   "source": [
    "df['genres'][:10]"
   ]
  },
  {
   "cell_type": "code",
   "execution_count": 19,
   "metadata": {},
   "outputs": [
    {
     "data": {
      "text/plain": [
       "genres\n",
       "History        6.719797\n",
       "War            6.713889\n",
       "Drama          6.390096\n",
       "Music          6.355676\n",
       "Foreign        6.352941\n",
       "Animation      6.341453\n",
       "Documentary    6.295413\n",
       "Crime          6.274138\n",
       "Romance        6.209854\n",
       "Mystery        6.183908\n",
       "Name: vote_average, dtype: float64"
      ]
     },
     "execution_count": 19,
     "metadata": {},
     "output_type": "execute_result"
    }
   ],
   "source": [
    "df.groupby('genres')['vote_average'].mean().sort_values(ascending=False).head(10)"
   ]
  },
  {
   "cell_type": "markdown",
   "metadata": {},
   "source": [
    "### b) Assuming the Conjunction of Genres "
   ]
  },
  {
   "cell_type": "code",
   "execution_count": 24,
   "metadata": {},
   "outputs": [
    {
     "data": {
      "text/plain": [
       "genres\n",
       "Western|Action|Drama|History                         9.3\n",
       "Fantasy|Animation|Adventure                          8.2\n",
       "Adventure|Fantasy|Animation                          8.2\n",
       "Drama|Action|Crime|Thriller                          8.2\n",
       "Fantasy|Drama|Crime                                  8.2\n",
       "Action|Thriller|Science Fiction|Mystery|Adventure    8.1\n",
       "Drama|Thriller|Mystery|Action                        8.0\n",
       "Adventure|Comedy|Science Fiction|Family              8.0\n",
       "Drama|Comedy|Animation|Family                        8.0\n",
       "Drama|Documentary                                    8.0\n",
       "Name: vote_average, dtype: float64"
      ]
     },
     "execution_count": 24,
     "metadata": {},
     "output_type": "execute_result"
    }
   ],
   "source": [
    "both.groupby('genres')['vote_average'].mean().sort_values(ascending=False).head(10)"
   ]
  },
  {
   "cell_type": "markdown",
   "metadata": {},
   "source": [
    "### c) Assuming the Max vote Average "
   ]
  },
  {
   "cell_type": "code",
   "execution_count": 25,
   "metadata": {},
   "outputs": [],
   "source": [
    "mx = movie_meta[\"vote_average\"].max()"
   ]
  },
  {
   "cell_type": "code",
   "execution_count": 26,
   "metadata": {},
   "outputs": [
    {
     "data": {
      "text/plain": [
       "3518                  Comedy\n",
       "4044     Comedy|Drama|Family\n",
       "4244    Romance|Comedy|Drama\n",
       "Name: genres, dtype: object"
      ]
     },
     "execution_count": 26,
     "metadata": {},
     "output_type": "execute_result"
    }
   ],
   "source": [
    "movie_meta[movie_meta[\"vote_average\"] == mx]['genres']"
   ]
  },
  {
   "cell_type": "markdown",
   "metadata": {},
   "source": [
    "### 2) Who are the highly rated directors? "
   ]
  },
  {
   "cell_type": "code",
   "execution_count": 27,
   "metadata": {},
   "outputs": [
    {
     "data": {
      "text/plain": [
       "director\n",
       "Gary Sinyor        10.00\n",
       "Rohit Jugraj        9.50\n",
       "Lance Hool          9.30\n",
       "Floyd Mutrux        8.50\n",
       "Tim McCanlies       8.45\n",
       "John Cromwell       8.40\n",
       "Jem Cohen           8.30\n",
       "Damien Chazelle     8.30\n",
       "Kevin Sullivan      8.20\n",
       "Philip Saville      8.20\n",
       "Name: vote_average, dtype: float64"
      ]
     },
     "execution_count": 27,
     "metadata": {},
     "output_type": "execute_result"
    }
   ],
   "source": [
    "both.groupby('director')['vote_average'].mean().sort_values(ascending=False).head(10)"
   ]
  },
  {
   "cell_type": "markdown",
   "metadata": {},
   "source": [
    "### 3) Who are the highly rated actors?"
   ]
  },
  {
   "cell_type": "code",
   "execution_count": 31,
   "metadata": {},
   "outputs": [],
   "source": [
    "actors = pd.melt(both , id_vars = 'vote_average',value_vars=['actor_1' ,'actor_2','actor_3'], value_name='actor')"
   ]
  },
  {
   "cell_type": "code",
   "execution_count": 32,
   "metadata": {},
   "outputs": [
    {
     "data": {
      "text/html": [
       "<div>\n",
       "<style scoped>\n",
       "    .dataframe tbody tr th:only-of-type {\n",
       "        vertical-align: middle;\n",
       "    }\n",
       "\n",
       "    .dataframe tbody tr th {\n",
       "        vertical-align: top;\n",
       "    }\n",
       "\n",
       "    .dataframe thead th {\n",
       "        text-align: right;\n",
       "    }\n",
       "</style>\n",
       "<table border=\"1\" class=\"dataframe\">\n",
       "  <thead>\n",
       "    <tr style=\"text-align: right;\">\n",
       "      <th></th>\n",
       "      <th>vote_average</th>\n",
       "      <th>variable</th>\n",
       "      <th>actor</th>\n",
       "    </tr>\n",
       "  </thead>\n",
       "  <tbody>\n",
       "    <tr>\n",
       "      <th>0</th>\n",
       "      <td>7.2</td>\n",
       "      <td>actor_1</td>\n",
       "      <td>Sam Worthington</td>\n",
       "    </tr>\n",
       "    <tr>\n",
       "      <th>1</th>\n",
       "      <td>6.9</td>\n",
       "      <td>actor_1</td>\n",
       "      <td>Johnny Depp</td>\n",
       "    </tr>\n",
       "    <tr>\n",
       "      <th>2</th>\n",
       "      <td>6.3</td>\n",
       "      <td>actor_1</td>\n",
       "      <td>Daniel Craig</td>\n",
       "    </tr>\n",
       "    <tr>\n",
       "      <th>3</th>\n",
       "      <td>7.6</td>\n",
       "      <td>actor_1</td>\n",
       "      <td>Christian Bale</td>\n",
       "    </tr>\n",
       "    <tr>\n",
       "      <th>4</th>\n",
       "      <td>6.1</td>\n",
       "      <td>actor_1</td>\n",
       "      <td>Taylor Kitsch</td>\n",
       "    </tr>\n",
       "  </tbody>\n",
       "</table>\n",
       "</div>"
      ],
      "text/plain": [
       "   vote_average variable            actor\n",
       "0           7.2  actor_1  Sam Worthington\n",
       "1           6.9  actor_1      Johnny Depp\n",
       "2           6.3  actor_1     Daniel Craig\n",
       "3           7.6  actor_1   Christian Bale\n",
       "4           6.1  actor_1    Taylor Kitsch"
      ]
     },
     "execution_count": 32,
     "metadata": {},
     "output_type": "execute_result"
    }
   ],
   "source": [
    "actors.head()"
   ]
  },
  {
   "cell_type": "code",
   "execution_count": 34,
   "metadata": {},
   "outputs": [
    {
     "data": {
      "text/html": [
       "<div>\n",
       "<style scoped>\n",
       "    .dataframe tbody tr th:only-of-type {\n",
       "        vertical-align: middle;\n",
       "    }\n",
       "\n",
       "    .dataframe tbody tr th {\n",
       "        vertical-align: top;\n",
       "    }\n",
       "\n",
       "    .dataframe thead th {\n",
       "        text-align: right;\n",
       "    }\n",
       "</style>\n",
       "<table border=\"1\" class=\"dataframe\">\n",
       "  <thead>\n",
       "    <tr style=\"text-align: right;\">\n",
       "      <th></th>\n",
       "      <th>vote_average</th>\n",
       "      <th>variable</th>\n",
       "      <th>actor</th>\n",
       "    </tr>\n",
       "  </thead>\n",
       "  <tbody>\n",
       "    <tr>\n",
       "      <th>14380</th>\n",
       "      <td>6.6</td>\n",
       "      <td>actor_3</td>\n",
       "      <td>Peter Marquardt</td>\n",
       "    </tr>\n",
       "    <tr>\n",
       "      <th>14381</th>\n",
       "      <td>5.9</td>\n",
       "      <td>actor_3</td>\n",
       "      <td>Marsha Dietlein</td>\n",
       "    </tr>\n",
       "    <tr>\n",
       "      <th>14382</th>\n",
       "      <td>7.0</td>\n",
       "      <td>actor_3</td>\n",
       "      <td>Crystal Lowe</td>\n",
       "    </tr>\n",
       "    <tr>\n",
       "      <th>14383</th>\n",
       "      <td>5.7</td>\n",
       "      <td>actor_3</td>\n",
       "      <td>Bill Paxton</td>\n",
       "    </tr>\n",
       "    <tr>\n",
       "      <th>14384</th>\n",
       "      <td>6.3</td>\n",
       "      <td>actor_3</td>\n",
       "      <td>Corey Feldman</td>\n",
       "    </tr>\n",
       "  </tbody>\n",
       "</table>\n",
       "</div>"
      ],
      "text/plain": [
       "       vote_average variable            actor\n",
       "14380           6.6  actor_3  Peter Marquardt\n",
       "14381           5.9  actor_3  Marsha Dietlein\n",
       "14382           7.0  actor_3     Crystal Lowe\n",
       "14383           5.7  actor_3      Bill Paxton\n",
       "14384           6.3  actor_3    Corey Feldman"
      ]
     },
     "execution_count": 34,
     "metadata": {},
     "output_type": "execute_result"
    }
   ],
   "source": [
    "actors.tail()"
   ]
  },
  {
   "cell_type": "code",
   "execution_count": 33,
   "metadata": {},
   "outputs": [
    {
     "data": {
      "text/plain": [
       "actor\n",
       "Prunella Scales      10.0\n",
       "Peter Facinelli      10.0\n",
       "Eddie Mills          10.0\n",
       "Peter Ustinov        10.0\n",
       "Daniela Romo          9.3\n",
       "Kelli Williams        8.5\n",
       "Madeleine Carroll     8.4\n",
       "Raymond Massey        8.4\n",
       "Ronald Colman         8.4\n",
       "Melissa Benoist       8.3\n",
       "Name: vote_average, dtype: float64"
      ]
     },
     "execution_count": 33,
     "metadata": {},
     "output_type": "execute_result"
    }
   ],
   "source": [
    "actors.groupby('actor')['vote_average'].mean().sort_values(ascending=False).head(10)"
   ]
  },
  {
   "cell_type": "markdown",
   "metadata": {},
   "source": [
    "### 4) Who are the most profitable directors?"
   ]
  },
  {
   "cell_type": "code",
   "execution_count": 39,
   "metadata": {},
   "outputs": [
    {
     "data": {
      "text/plain": [
       "director\n",
       "Steven Spielberg     9.147393e+09\n",
       "Peter Jackson        6.498643e+09\n",
       "James Cameron        5.883569e+09\n",
       "Michael Bay          5.832525e+09\n",
       "Christopher Nolan    4.227483e+09\n",
       "Chris Columbus       3.725632e+09\n",
       "Robert Zemeckis      3.590622e+09\n",
       "George Lucas         3.339114e+09\n",
       "Tim Burton           3.337418e+09\n",
       "Ridley Scott         3.189558e+09\n",
       "Name: revenue, dtype: float64"
      ]
     },
     "execution_count": 39,
     "metadata": {},
     "output_type": "execute_result"
    }
   ],
   "source": [
    "both.groupby('director')['revenue'].sum().sort_values(ascending=False).head(10)"
   ]
  },
  {
   "cell_type": "markdown",
   "metadata": {},
   "source": [
    "### 5) Who are the most profitable actors?"
   ]
  },
  {
   "cell_type": "code",
   "execution_count": 36,
   "metadata": {},
   "outputs": [],
   "source": [
    "actors = pd.melt(both , id_vars = 'revenue',value_vars=['actor_1' ,'actor_2','actor_3'], value_name='actor')"
   ]
  },
  {
   "cell_type": "code",
   "execution_count": 37,
   "metadata": {},
   "outputs": [
    {
     "data": {
      "text/plain": [
       "actor\n",
       "Frances Fisher      1.845034e+09\n",
       "Jonathan Groff      1.274219e+09\n",
       "Idina Menzel        1.274219e+09\n",
       "Neel Sethi          9.665506e+08\n",
       "Alexander Gould     9.403355e+08\n",
       "Ellen DeGeneres     9.403355e+08\n",
       "Léa Seydoux         8.806746e+08\n",
       "Chris Wedge         8.772448e+08\n",
       "Louis C.K.          8.759583e+08\n",
       "Eric Stonestreet    8.759583e+08\n",
       "Name: revenue, dtype: float64"
      ]
     },
     "execution_count": 37,
     "metadata": {},
     "output_type": "execute_result"
    }
   ],
   "source": [
    "actors.groupby('actor')['revenue'].mean().sort_values(ascending=False).head(10)"
   ]
  },
  {
   "cell_type": "markdown",
   "metadata": {},
   "source": [
    "### 6) Which countries have higher average rating?"
   ]
  },
  {
   "cell_type": "code",
   "execution_count": 41,
   "metadata": {},
   "outputs": [],
   "source": [
    "movie_meta['production_countries'].fillna(\"\" ,inplace = True)"
   ]
  },
  {
   "cell_type": "code",
   "execution_count": 42,
   "metadata": {},
   "outputs": [],
   "source": [
    "from itertools import chain\n",
    "\n",
    "cols = movie_meta.columns.difference(['production_countries'])\n",
    "countries = movie_meta['production_countries'].str.split('|')"
   ]
  },
  {
   "cell_type": "code",
   "execution_count": 43,
   "metadata": {},
   "outputs": [],
   "source": [
    "df =  (movie_meta.loc[movie_meta.index.repeat(countries.str.len()), cols]\n",
    "         .assign(countries=list(chain.from_iterable(countries.tolist()))))"
   ]
  },
  {
   "cell_type": "code",
   "execution_count": 49,
   "metadata": {},
   "outputs": [
    {
     "data": {
      "text/html": [
       "<div>\n",
       "<style scoped>\n",
       "    .dataframe tbody tr th:only-of-type {\n",
       "        vertical-align: middle;\n",
       "    }\n",
       "\n",
       "    .dataframe tbody tr th {\n",
       "        vertical-align: top;\n",
       "    }\n",
       "\n",
       "    .dataframe thead th {\n",
       "        text-align: right;\n",
       "    }\n",
       "</style>\n",
       "<table border=\"1\" class=\"dataframe\">\n",
       "  <thead>\n",
       "    <tr style=\"text-align: right;\">\n",
       "      <th></th>\n",
       "      <th>budget</th>\n",
       "      <th>genres</th>\n",
       "      <th>keywords</th>\n",
       "      <th>movie_id</th>\n",
       "      <th>original_language</th>\n",
       "      <th>popularity</th>\n",
       "      <th>production_companies</th>\n",
       "      <th>release_date</th>\n",
       "      <th>revenue</th>\n",
       "      <th>runtime</th>\n",
       "      <th>title</th>\n",
       "      <th>vote_average</th>\n",
       "      <th>vote_count</th>\n",
       "      <th>countries</th>\n",
       "    </tr>\n",
       "  </thead>\n",
       "  <tbody>\n",
       "    <tr>\n",
       "      <th>4163</th>\n",
       "      <td>0</td>\n",
       "      <td>Documentary|Drama|History</td>\n",
       "      <td>woman director</td>\n",
       "      <td>159037</td>\n",
       "      <td>ar</td>\n",
       "      <td>4.892203</td>\n",
       "      <td>Roast Beef Productions|Worldview Entertainment...</td>\n",
       "      <td>2013-06-07</td>\n",
       "      <td>0.0</td>\n",
       "      <td>88.0</td>\n",
       "      <td>The Square</td>\n",
       "      <td>7.8</td>\n",
       "      <td>55</td>\n",
       "      <td>Egypt</td>\n",
       "    </tr>\n",
       "  </tbody>\n",
       "</table>\n",
       "</div>"
      ],
      "text/plain": [
       "      budget                     genres        keywords  movie_id  \\\n",
       "4163       0  Documentary|Drama|History  woman director    159037   \n",
       "\n",
       "     original_language  popularity  \\\n",
       "4163                ar    4.892203   \n",
       "\n",
       "                                   production_companies release_date  revenue  \\\n",
       "4163  Roast Beef Productions|Worldview Entertainment...   2013-06-07      0.0   \n",
       "\n",
       "      runtime       title  vote_average  vote_count countries  \n",
       "4163     88.0  The Square           7.8          55     Egypt  "
      ]
     },
     "execution_count": 49,
     "metadata": {},
     "output_type": "execute_result"
    }
   ],
   "source": [
    "df[df['countries'] == 'Egypt']"
   ]
  },
  {
   "cell_type": "code",
   "execution_count": 47,
   "metadata": {},
   "outputs": [
    {
     "data": {
      "text/plain": [
       "United States of America    3952\n",
       "United Kingdom               635\n",
       "Germany                      324\n",
       "France                       306\n",
       "Canada                       261\n",
       "                             171\n",
       "Australia                    110\n",
       "Italy                         72\n",
       "Spain                         71\n",
       "China                         59\n",
       "Japan                         58\n",
       "India                         54\n",
       "Hong Kong                     48\n",
       "Ireland                       37\n",
       "Mexico                        30\n",
       "New Zealand                   28\n",
       "Belgium                       25\n",
       "Czech Republic                24\n",
       "South Africa                  20\n",
       "Denmark                       20\n",
       "Russia                        19\n",
       "Sweden                        19\n",
       "Switzerland                   19\n",
       "Netherlands                   18\n",
       "South Korea                   18\n",
       "Norway                        14\n",
       "United Arab Emirates          14\n",
       "Brazil                        13\n",
       "Hungary                       13\n",
       "Romania                       12\n",
       "                            ... \n",
       "Ecuador                        1\n",
       "Fiji                           1\n",
       "Cyprus                         1\n",
       "Egypt                          1\n",
       "Dominica                       1\n",
       "Guadaloupe                     1\n",
       "Panama                         1\n",
       "Philippines                    1\n",
       "Angola                         1\n",
       "Cambodia                       1\n",
       "Portugal                       1\n",
       "Monaco                         1\n",
       "Ukraine                        1\n",
       "Jordan                         1\n",
       "Lebanon                        1\n",
       "Bolivia                        1\n",
       "Aruba                          1\n",
       "Guyana                         1\n",
       "Serbia and Montenegro          1\n",
       "Afghanistan                    1\n",
       "Nigeria                        1\n",
       "Serbia                         1\n",
       "Tunisia                        1\n",
       "Bosnia and Herzegovina         1\n",
       "Cameroon                       1\n",
       "Turkey                         1\n",
       "Kyrgyz Republic                1\n",
       "Dominican Republic             1\n",
       "Kenya                          1\n",
       "Libyan Arab Jamahiriya         1\n",
       "Name: countries, Length: 89, dtype: int64"
      ]
     },
     "execution_count": 47,
     "metadata": {},
     "output_type": "execute_result"
    }
   ],
   "source": [
    "df['countries'].value_counts()"
   ]
  },
  {
   "cell_type": "code",
   "execution_count": 46,
   "metadata": {},
   "outputs": [
    {
     "data": {
      "text/plain": [
       "countries\n",
       "Egypt                     7.800000\n",
       "Libyan Arab Jamahiriya    7.400000\n",
       "Iran                      7.375000\n",
       "Monaco                    7.300000\n",
       "Indonesia                 7.300000\n",
       "Cameroon                  7.300000\n",
       "Austria                   7.083333\n",
       "Dominica                  7.000000\n",
       "Taiwan                    7.000000\n",
       "Argentina                 6.988889\n",
       "Name: vote_average, dtype: float64"
      ]
     },
     "execution_count": 46,
     "metadata": {},
     "output_type": "execute_result"
    }
   ],
   "source": [
    "df.groupby('countries')['vote_average'].mean().sort_values(ascending=False).head(10)"
   ]
  },
  {
   "cell_type": "markdown",
   "metadata": {},
   "source": [
    "### 7) Which countries produced more movies?"
   ]
  },
  {
   "cell_type": "code",
   "execution_count": 50,
   "metadata": {},
   "outputs": [
    {
     "data": {
      "text/plain": [
       "United States of America    3952\n",
       "United Kingdom               635\n",
       "Germany                      324\n",
       "France                       306\n",
       "Canada                       261\n",
       "Name: countries, dtype: int64"
      ]
     },
     "execution_count": 50,
     "metadata": {},
     "output_type": "execute_result"
    }
   ],
   "source": [
    "df['countries'].value_counts()[:5]"
   ]
  },
  {
   "cell_type": "code",
   "execution_count": null,
   "metadata": {
    "collapsed": true
   },
   "outputs": [],
   "source": []
  }
 ],
 "metadata": {
  "kernelspec": {
   "display_name": "Python 3",
   "language": "python",
   "name": "python3"
  },
  "language_info": {
   "codemirror_mode": {
    "name": "ipython",
    "version": 3
   },
   "file_extension": ".py",
   "mimetype": "text/x-python",
   "name": "python",
   "nbconvert_exporter": "python",
   "pygments_lexer": "ipython3",
   "version": "3.6.5"
  }
 },
 "nbformat": 4,
 "nbformat_minor": 2
}
